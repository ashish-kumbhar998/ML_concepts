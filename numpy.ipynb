{
 "cells": [
  {
   "cell_type": "markdown",
   "id": "f684f4c4",
   "metadata": {},
   "source": [
    "### Basic of Numpy"
   ]
  },
  {
   "cell_type": "code",
   "execution_count": null,
   "id": "c606994c",
   "metadata": {},
   "outputs": [],
   "source": [
    "# Import numpy and check its version\n",
    "\n",
    "import numpy as np\n",
    "\n",
    "print(np.__version__)              # version\n",
    "\n",
    "arr = np.array([1,2,3])            # numpy array\n",
    "print(arr)\n",
    "\n",
    "arr2 = np.array((1, 2, 3, 4, 5))\n",
    "print(arr2)\n",
    "\n",
    "print(type(arr))                   # Data"
   ]
  },
  {
   "cell_type": "markdown",
   "id": "63ad0cf3",
   "metadata": {},
   "source": [
    "### Dimensions of Array"
   ]
  },
  {
   "cell_type": "code",
   "execution_count": 40,
   "id": "f61bb8ce",
   "metadata": {},
   "outputs": [
    {
     "name": "stdout",
     "output_type": "stream",
     "text": [
      "__________0D__________\n",
      "10\n",
      "Dimension :  0\n",
      "__________1D__________\n",
      "[1 2 3]\n",
      "Dimension :  1\n",
      "__________2D__________\n",
      "[[1 2 3]\n",
      " [4 5 6]]\n",
      "Dimension :  2\n",
      "__________3D__________\n",
      "[[[1 2 3]\n",
      "  [4 5 6]]\n",
      "\n",
      " [[7 8 9]\n",
      "  [2 3 4]]]\n",
      "Dimension :  3\n"
     ]
    }
   ],
   "source": [
    "# 0D Array\n",
    "\n",
    "a0d = np.array(10)\n",
    "print(\"__________0D__________\")\n",
    "print(a0d)\n",
    "print(\"Dimension : \",a0d.ndim)\n",
    "\n",
    "# 1D Array\n",
    "\n",
    "a1d = np.array([1,2,3])\n",
    "print(\"__________1D__________\")\n",
    "print(a1d)\n",
    "print(\"Dimension : \",a1d.ndim)\n",
    "\n",
    "# 2D Array\n",
    "\n",
    "a2d = np.array([[1,2,3],[4,5,6]])\n",
    "print(\"__________2D__________\")\n",
    "print(a2d)\n",
    "print(\"Dimension : \",a2d.ndim)\n",
    "\n",
    "# 3D Array\n",
    "\n",
    "a3d = np.array([[[1,2,3],[4,5,6]],[[7,8,9],[2,3,4]]])\n",
    "print(\"__________3D__________\")\n",
    "print(a3d)\n",
    "print(\"Dimension : \",a3d.ndim)\n"
   ]
  },
  {
   "cell_type": "code",
   "execution_count": 41,
   "id": "b4b95986",
   "metadata": {},
   "outputs": [
    {
     "data": {
      "text/plain": [
       "array([[1.+0.j, 2.+0.j],\n",
       "       [3.+0.j, 4.+0.j]])"
      ]
     },
     "execution_count": 41,
     "metadata": {},
     "output_type": "execute_result"
    }
   ],
   "source": [
    "c = np.array([[1, 2], [3, 4]], dtype=complex)\n",
    "c"
   ]
  },
  {
   "cell_type": "code",
   "execution_count": 52,
   "id": "9e8193eb",
   "metadata": {},
   "outputs": [
    {
     "name": "stdout",
     "output_type": "stream",
     "text": [
      "[[ 0  1  2  3  4]\n",
      " [ 5  6  7  8  9]\n",
      " [10 11 12 13 14]]\n",
      "(3, 5)\n",
      "2\n",
      "15\n",
      "8\n"
     ]
    }
   ],
   "source": [
    "c = np.arange(15).reshape(3, 5)\n",
    "print(c)\n",
    "print(c.shape)\n",
    "print(c.ndim)\n",
    "print(c.size)\n",
    "print(c.itemsize)"
   ]
  },
  {
   "cell_type": "code",
   "execution_count": null,
   "id": "403383fd",
   "metadata": {},
   "outputs": [],
   "source": []
  }
 ],
 "metadata": {
  "kernelspec": {
   "display_name": "Python 3 (ipykernel)",
   "language": "python",
   "name": "python3"
  },
  "language_info": {
   "codemirror_mode": {
    "name": "ipython",
    "version": 3
   },
   "file_extension": ".py",
   "mimetype": "text/x-python",
   "name": "python",
   "nbconvert_exporter": "python",
   "pygments_lexer": "ipython3",
   "version": "3.9.7"
  }
 },
 "nbformat": 4,
 "nbformat_minor": 5
}
